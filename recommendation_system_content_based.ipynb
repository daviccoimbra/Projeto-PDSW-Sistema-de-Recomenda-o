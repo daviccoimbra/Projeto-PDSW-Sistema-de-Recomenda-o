{
 "cells": [
  {
   "cell_type": "markdown",
   "metadata": {
    "id": "8bwvYsBHG8gZ"
   },
   "source": [
    "# **ALGORITMO DE RECOMENDAÇÃO**\n",
    "\n",
    "**Por filtragem colaborativa baseado em registros dos usuários**\n",
    "\n",
    "DATASET: https://www.kaggle.com/datasets/jneupane12/movielens\n",
    "\n",
    "Esse Dataset do [MovieLens](http://movielens.org) contém 20.000.263 avaliações e 465.564 tags em 27.278 filmes. Esses dados foram criados por 138.493 usuários entre 9 de janeiro de 1995 e 31 de março de 2015. Este conjunto de dados foi gerado em 31 de março de 2015 e atualizado em 17 de outubro de 2016"
   ]
  },
  {
   "cell_type": "code",
   "execution_count": 1,
   "metadata": {
    "_cell_guid": "b1076dfc-b9ad-4769-8c92-a6c4dae69d19",
    "_uuid": "8f2839f25d086af736a60e9eeb907d3b93b6e0e5",
    "execution": {
     "iopub.execute_input": "2025-06-04T19:41:36.961125Z",
     "iopub.status.busy": "2025-06-04T19:41:36.960865Z",
     "iopub.status.idle": "2025-06-04T19:41:42.039336Z",
     "shell.execute_reply": "2025-06-04T19:41:42.038115Z",
     "shell.execute_reply.started": "2025-06-04T19:41:36.961103Z"
    },
    "id": "Sj-67Nt-G8hF",
    "trusted": true
   },
   "outputs": [],
   "source": [
    "import numpy as np\n",
    "import pandas as pd\n",
    "import difflib\n",
    "from sklearn.metrics.pairwise import cosine_similarity\n",
    "\n",
    "filmes = pd.read_csv('/kaggle/input/movielens/movies.csv')\n",
    "notas = pd.read_csv('/kaggle/input/movielens/ratings.csv')\n"
   ]
  },
  {
   "cell_type": "code",
   "execution_count": 2,
   "metadata": {
    "execution": {
     "iopub.execute_input": "2025-06-04T19:41:49.802699Z",
     "iopub.status.busy": "2025-06-04T19:41:49.801697Z",
     "iopub.status.idle": "2025-06-04T19:41:49.840293Z",
     "shell.execute_reply": "2025-06-04T19:41:49.839317Z",
     "shell.execute_reply.started": "2025-06-04T19:41:49.802642Z"
    },
    "id": "F12E3d1YVV8F",
    "trusted": true
   },
   "outputs": [
    {
     "data": {
      "text/html": [
       "<div>\n",
       "<style scoped>\n",
       "    .dataframe tbody tr th:only-of-type {\n",
       "        vertical-align: middle;\n",
       "    }\n",
       "\n",
       "    .dataframe tbody tr th {\n",
       "        vertical-align: top;\n",
       "    }\n",
       "\n",
       "    .dataframe thead th {\n",
       "        text-align: right;\n",
       "    }\n",
       "</style>\n",
       "<table border=\"1\" class=\"dataframe\">\n",
       "  <thead>\n",
       "    <tr style=\"text-align: right;\">\n",
       "      <th></th>\n",
       "      <th>movieId</th>\n",
       "      <th>title</th>\n",
       "      <th>genres</th>\n",
       "    </tr>\n",
       "  </thead>\n",
       "  <tbody>\n",
       "    <tr>\n",
       "      <th>0</th>\n",
       "      <td>1</td>\n",
       "      <td>Toy Story (1995)</td>\n",
       "      <td>Adventure|Animation|Children|Comedy|Fantasy</td>\n",
       "    </tr>\n",
       "    <tr>\n",
       "      <th>1</th>\n",
       "      <td>2</td>\n",
       "      <td>Jumanji (1995)</td>\n",
       "      <td>Adventure|Children|Fantasy</td>\n",
       "    </tr>\n",
       "    <tr>\n",
       "      <th>2</th>\n",
       "      <td>3</td>\n",
       "      <td>Grumpier Old Men (1995)</td>\n",
       "      <td>Comedy|Romance</td>\n",
       "    </tr>\n",
       "    <tr>\n",
       "      <th>3</th>\n",
       "      <td>4</td>\n",
       "      <td>Waiting to Exhale (1995)</td>\n",
       "      <td>Comedy|Drama|Romance</td>\n",
       "    </tr>\n",
       "    <tr>\n",
       "      <th>4</th>\n",
       "      <td>5</td>\n",
       "      <td>Father of the Bride Part II (1995)</td>\n",
       "      <td>Comedy</td>\n",
       "    </tr>\n",
       "  </tbody>\n",
       "</table>\n",
       "</div>"
      ],
      "text/plain": [
       "   movieId                               title  \\\n",
       "0        1                    Toy Story (1995)   \n",
       "1        2                      Jumanji (1995)   \n",
       "2        3             Grumpier Old Men (1995)   \n",
       "3        4            Waiting to Exhale (1995)   \n",
       "4        5  Father of the Bride Part II (1995)   \n",
       "\n",
       "                                        genres  \n",
       "0  Adventure|Animation|Children|Comedy|Fantasy  \n",
       "1                   Adventure|Children|Fantasy  \n",
       "2                               Comedy|Romance  \n",
       "3                         Comedy|Drama|Romance  \n",
       "4                                       Comedy  "
      ]
     },
     "execution_count": 2,
     "metadata": {},
     "output_type": "execute_result"
    }
   ],
   "source": [
    "filmes.head()"
   ]
  },
  {
   "cell_type": "code",
   "execution_count": 3,
   "metadata": {
    "execution": {
     "iopub.execute_input": "2025-06-04T19:41:52.418275Z",
     "iopub.status.busy": "2025-06-04T19:41:52.417767Z",
     "iopub.status.idle": "2025-06-04T19:41:52.435144Z",
     "shell.execute_reply": "2025-06-04T19:41:52.433952Z",
     "shell.execute_reply.started": "2025-06-04T19:41:52.418239Z"
    },
    "id": "CecSUBclVZhE",
    "trusted": true
   },
   "outputs": [
    {
     "data": {
      "text/html": [
       "<div>\n",
       "<style scoped>\n",
       "    .dataframe tbody tr th:only-of-type {\n",
       "        vertical-align: middle;\n",
       "    }\n",
       "\n",
       "    .dataframe tbody tr th {\n",
       "        vertical-align: top;\n",
       "    }\n",
       "\n",
       "    .dataframe thead th {\n",
       "        text-align: right;\n",
       "    }\n",
       "</style>\n",
       "<table border=\"1\" class=\"dataframe\">\n",
       "  <thead>\n",
       "    <tr style=\"text-align: right;\">\n",
       "      <th></th>\n",
       "      <th>userId</th>\n",
       "      <th>movieId</th>\n",
       "      <th>rating</th>\n",
       "      <th>timestamp</th>\n",
       "    </tr>\n",
       "  </thead>\n",
       "  <tbody>\n",
       "    <tr>\n",
       "      <th>0</th>\n",
       "      <td>1</td>\n",
       "      <td>2</td>\n",
       "      <td>3.5</td>\n",
       "      <td>1112486027</td>\n",
       "    </tr>\n",
       "    <tr>\n",
       "      <th>1</th>\n",
       "      <td>1</td>\n",
       "      <td>29</td>\n",
       "      <td>3.5</td>\n",
       "      <td>1112484676</td>\n",
       "    </tr>\n",
       "    <tr>\n",
       "      <th>2</th>\n",
       "      <td>1</td>\n",
       "      <td>32</td>\n",
       "      <td>3.5</td>\n",
       "      <td>1112484819</td>\n",
       "    </tr>\n",
       "    <tr>\n",
       "      <th>3</th>\n",
       "      <td>1</td>\n",
       "      <td>47</td>\n",
       "      <td>3.5</td>\n",
       "      <td>1112484727</td>\n",
       "    </tr>\n",
       "    <tr>\n",
       "      <th>4</th>\n",
       "      <td>1</td>\n",
       "      <td>50</td>\n",
       "      <td>3.5</td>\n",
       "      <td>1112484580</td>\n",
       "    </tr>\n",
       "  </tbody>\n",
       "</table>\n",
       "</div>"
      ],
      "text/plain": [
       "   userId  movieId  rating   timestamp\n",
       "0       1        2     3.5  1112486027\n",
       "1       1       29     3.5  1112484676\n",
       "2       1       32     3.5  1112484819\n",
       "3       1       47     3.5  1112484727\n",
       "4       1       50     3.5  1112484580"
      ]
     },
     "execution_count": 3,
     "metadata": {},
     "output_type": "execute_result"
    }
   ],
   "source": [
    "notas.head()"
   ]
  },
  {
   "cell_type": "markdown",
   "metadata": {
    "id": "4TsQK0oLVM-G"
   },
   "source": [
    "**Selecionando apenas as colunas relevantes**"
   ]
  },
  {
   "cell_type": "code",
   "execution_count": 4,
   "metadata": {
    "execution": {
     "iopub.execute_input": "2025-06-04T19:41:56.173560Z",
     "iopub.status.busy": "2025-06-04T19:41:56.172326Z",
     "iopub.status.idle": "2025-06-04T19:41:56.456149Z",
     "shell.execute_reply": "2025-06-04T19:41:56.454978Z",
     "shell.execute_reply.started": "2025-06-04T19:41:56.173486Z"
    },
    "id": "cYQ0uqriG8ha",
    "outputId": "b29ef5ec-e8d5-4a3b-9b7d-7cb8cc973fa7",
    "trusted": true
   },
   "outputs": [
    {
     "name": "stdout",
     "output_type": "stream",
     "text": [
      "         movieId                   title  userId  rating\n",
      "0              1        Toy Story (1995)       3     4.0\n",
      "1              1        Toy Story (1995)       6     5.0\n",
      "2              1        Toy Story (1995)       8     4.0\n",
      "3              1        Toy Story (1995)      10     4.0\n",
      "4              1        Toy Story (1995)      11     4.5\n",
      "...          ...                     ...     ...     ...\n",
      "1048570   130219  The Dark Knight (2011)    1339     4.5\n",
      "1048571   130462          The Boy (2015)    5731     4.0\n",
      "1048572   130490        Insurgent (2015)    2423     1.0\n",
      "1048573   130490        Insurgent (2015)    3397     3.5\n",
      "1048574   130642      Backcountry (2014)    3858     3.0\n",
      "\n",
      "[1048575 rows x 4 columns]\n"
     ]
    }
   ],
   "source": [
    "coluna_filmes = filmes[['movieId','title']]\n",
    "coluna_notas = notas[['userId','movieId','rating']]\n",
    "filmes_data = pd.merge(coluna_filmes, coluna_notas)\n",
    "print(filmes_data)"
   ]
  },
  {
   "cell_type": "markdown",
   "metadata": {
    "id": "37atnuHrVfJE"
   },
   "source": [
    "**Gerando uma tabela pivot:**\n",
    "\n",
    " Isso cria uma estrutura onde cada célula corresponde à avaliação de um usuário para um filme. E torna os cálculos de similaridade mais rápidos e diretos."
   ]
  },
  {
   "cell_type": "code",
   "execution_count": 5,
   "metadata": {
    "execution": {
     "iopub.execute_input": "2025-06-04T19:41:59.621598Z",
     "iopub.status.busy": "2025-06-04T19:41:59.621262Z",
     "iopub.status.idle": "2025-06-04T19:42:02.161214Z",
     "shell.execute_reply": "2025-06-04T19:42:02.160182Z",
     "shell.execute_reply.started": "2025-06-04T19:41:59.621574Z"
    },
    "id": "px57FAfVG8ho",
    "outputId": "4cf93882-656e-4c93-ea19-da07a9e2920e",
    "trusted": true
   },
   "outputs": [
    {
     "name": "stderr",
     "output_type": "stream",
     "text": [
      "/usr/local/lib/python3.11/dist-packages/pandas/io/formats/format.py:1458: RuntimeWarning: invalid value encountered in greater\n",
      "  has_large_values = (abs_vals > 1e6).any()\n",
      "/usr/local/lib/python3.11/dist-packages/pandas/io/formats/format.py:1459: RuntimeWarning: invalid value encountered in less\n",
      "  has_small_values = ((abs_vals < 10 ** (-self.digits)) & (abs_vals > 0)).any()\n",
      "/usr/local/lib/python3.11/dist-packages/pandas/io/formats/format.py:1459: RuntimeWarning: invalid value encountered in greater\n",
      "  has_small_values = ((abs_vals < 10 ** (-self.digits)) & (abs_vals > 0)).any()\n",
      "/usr/local/lib/python3.11/dist-packages/pandas/io/formats/format.py:1458: RuntimeWarning: invalid value encountered in greater\n",
      "  has_large_values = (abs_vals > 1e6).any()\n",
      "/usr/local/lib/python3.11/dist-packages/pandas/io/formats/format.py:1459: RuntimeWarning: invalid value encountered in less\n",
      "  has_small_values = ((abs_vals < 10 ** (-self.digits)) & (abs_vals > 0)).any()\n",
      "/usr/local/lib/python3.11/dist-packages/pandas/io/formats/format.py:1459: RuntimeWarning: invalid value encountered in greater\n",
      "  has_small_values = ((abs_vals < 10 ** (-self.digits)) & (abs_vals > 0)).any()\n"
     ]
    },
    {
     "data": {
      "text/html": [
       "<div>\n",
       "<style scoped>\n",
       "    .dataframe tbody tr th:only-of-type {\n",
       "        vertical-align: middle;\n",
       "    }\n",
       "\n",
       "    .dataframe tbody tr th {\n",
       "        vertical-align: top;\n",
       "    }\n",
       "\n",
       "    .dataframe thead th {\n",
       "        text-align: right;\n",
       "    }\n",
       "</style>\n",
       "<table border=\"1\" class=\"dataframe\">\n",
       "  <thead>\n",
       "    <tr style=\"text-align: right;\">\n",
       "      <th>title</th>\n",
       "      <th>\"Great Performances\" Cats (1998)</th>\n",
       "      <th>$5 a Day (2008)</th>\n",
       "      <th>'71 (2014)</th>\n",
       "      <th>'Hellboy': The Seeds of Creation (2004)</th>\n",
       "      <th>'Neath the Arizona Skies (1934)</th>\n",
       "      <th>'R Xmas (2001)</th>\n",
       "      <th>'Round Midnight (1986)</th>\n",
       "      <th>'Salem's Lot (2004)</th>\n",
       "      <th>'Til There Was You (1997)</th>\n",
       "      <th>'burbs, The (1989)</th>\n",
       "      <th>...</th>\n",
       "      <th>[REC] (2007)</th>\n",
       "      <th>[REC]² (2009)</th>\n",
       "      <th>[REC]³ 3 Génesis (2012)</th>\n",
       "      <th>eXistenZ (1999)</th>\n",
       "      <th>loudQUIETloud: A Film About the Pixies (2006)</th>\n",
       "      <th>xXx (2002)</th>\n",
       "      <th>xXx: State of the Union (2005)</th>\n",
       "      <th>¡Three Amigos! (1986)</th>\n",
       "      <th>À nos amours (1983)</th>\n",
       "      <th>À nous la liberté (Freedom for Us) (1931)</th>\n",
       "    </tr>\n",
       "    <tr>\n",
       "      <th>userId</th>\n",
       "      <th></th>\n",
       "      <th></th>\n",
       "      <th></th>\n",
       "      <th></th>\n",
       "      <th></th>\n",
       "      <th></th>\n",
       "      <th></th>\n",
       "      <th></th>\n",
       "      <th></th>\n",
       "      <th></th>\n",
       "      <th></th>\n",
       "      <th></th>\n",
       "      <th></th>\n",
       "      <th></th>\n",
       "      <th></th>\n",
       "      <th></th>\n",
       "      <th></th>\n",
       "      <th></th>\n",
       "      <th></th>\n",
       "      <th></th>\n",
       "      <th></th>\n",
       "    </tr>\n",
       "  </thead>\n",
       "  <tbody>\n",
       "    <tr>\n",
       "      <th>1</th>\n",
       "      <td>NaN</td>\n",
       "      <td>NaN</td>\n",
       "      <td>NaN</td>\n",
       "      <td>NaN</td>\n",
       "      <td>NaN</td>\n",
       "      <td>NaN</td>\n",
       "      <td>NaN</td>\n",
       "      <td>NaN</td>\n",
       "      <td>NaN</td>\n",
       "      <td>NaN</td>\n",
       "      <td>...</td>\n",
       "      <td>NaN</td>\n",
       "      <td>NaN</td>\n",
       "      <td>NaN</td>\n",
       "      <td>NaN</td>\n",
       "      <td>NaN</td>\n",
       "      <td>NaN</td>\n",
       "      <td>NaN</td>\n",
       "      <td>NaN</td>\n",
       "      <td>NaN</td>\n",
       "      <td>NaN</td>\n",
       "    </tr>\n",
       "    <tr>\n",
       "      <th>2</th>\n",
       "      <td>NaN</td>\n",
       "      <td>NaN</td>\n",
       "      <td>NaN</td>\n",
       "      <td>NaN</td>\n",
       "      <td>NaN</td>\n",
       "      <td>NaN</td>\n",
       "      <td>NaN</td>\n",
       "      <td>NaN</td>\n",
       "      <td>NaN</td>\n",
       "      <td>NaN</td>\n",
       "      <td>...</td>\n",
       "      <td>NaN</td>\n",
       "      <td>NaN</td>\n",
       "      <td>NaN</td>\n",
       "      <td>NaN</td>\n",
       "      <td>NaN</td>\n",
       "      <td>NaN</td>\n",
       "      <td>NaN</td>\n",
       "      <td>NaN</td>\n",
       "      <td>NaN</td>\n",
       "      <td>NaN</td>\n",
       "    </tr>\n",
       "    <tr>\n",
       "      <th>3</th>\n",
       "      <td>NaN</td>\n",
       "      <td>NaN</td>\n",
       "      <td>NaN</td>\n",
       "      <td>NaN</td>\n",
       "      <td>NaN</td>\n",
       "      <td>NaN</td>\n",
       "      <td>NaN</td>\n",
       "      <td>NaN</td>\n",
       "      <td>NaN</td>\n",
       "      <td>NaN</td>\n",
       "      <td>...</td>\n",
       "      <td>NaN</td>\n",
       "      <td>NaN</td>\n",
       "      <td>NaN</td>\n",
       "      <td>NaN</td>\n",
       "      <td>NaN</td>\n",
       "      <td>NaN</td>\n",
       "      <td>NaN</td>\n",
       "      <td>NaN</td>\n",
       "      <td>NaN</td>\n",
       "      <td>NaN</td>\n",
       "    </tr>\n",
       "    <tr>\n",
       "      <th>4</th>\n",
       "      <td>NaN</td>\n",
       "      <td>NaN</td>\n",
       "      <td>NaN</td>\n",
       "      <td>NaN</td>\n",
       "      <td>NaN</td>\n",
       "      <td>NaN</td>\n",
       "      <td>NaN</td>\n",
       "      <td>NaN</td>\n",
       "      <td>NaN</td>\n",
       "      <td>NaN</td>\n",
       "      <td>...</td>\n",
       "      <td>NaN</td>\n",
       "      <td>NaN</td>\n",
       "      <td>NaN</td>\n",
       "      <td>NaN</td>\n",
       "      <td>NaN</td>\n",
       "      <td>NaN</td>\n",
       "      <td>NaN</td>\n",
       "      <td>NaN</td>\n",
       "      <td>NaN</td>\n",
       "      <td>NaN</td>\n",
       "    </tr>\n",
       "    <tr>\n",
       "      <th>5</th>\n",
       "      <td>NaN</td>\n",
       "      <td>NaN</td>\n",
       "      <td>NaN</td>\n",
       "      <td>NaN</td>\n",
       "      <td>NaN</td>\n",
       "      <td>NaN</td>\n",
       "      <td>NaN</td>\n",
       "      <td>NaN</td>\n",
       "      <td>NaN</td>\n",
       "      <td>NaN</td>\n",
       "      <td>...</td>\n",
       "      <td>NaN</td>\n",
       "      <td>NaN</td>\n",
       "      <td>NaN</td>\n",
       "      <td>NaN</td>\n",
       "      <td>NaN</td>\n",
       "      <td>NaN</td>\n",
       "      <td>NaN</td>\n",
       "      <td>NaN</td>\n",
       "      <td>NaN</td>\n",
       "      <td>NaN</td>\n",
       "    </tr>\n",
       "  </tbody>\n",
       "</table>\n",
       "<p>5 rows × 14021 columns</p>\n",
       "</div>"
      ],
      "text/plain": [
       "title   \"Great Performances\" Cats (1998)  $5 a Day (2008)  '71 (2014)  \\\n",
       "userId                                                                  \n",
       "1                                    NaN              NaN         NaN   \n",
       "2                                    NaN              NaN         NaN   \n",
       "3                                    NaN              NaN         NaN   \n",
       "4                                    NaN              NaN         NaN   \n",
       "5                                    NaN              NaN         NaN   \n",
       "\n",
       "title   'Hellboy': The Seeds of Creation (2004)  \\\n",
       "userId                                            \n",
       "1                                           NaN   \n",
       "2                                           NaN   \n",
       "3                                           NaN   \n",
       "4                                           NaN   \n",
       "5                                           NaN   \n",
       "\n",
       "title   'Neath the Arizona Skies (1934)  'R Xmas (2001)  \\\n",
       "userId                                                    \n",
       "1                                   NaN             NaN   \n",
       "2                                   NaN             NaN   \n",
       "3                                   NaN             NaN   \n",
       "4                                   NaN             NaN   \n",
       "5                                   NaN             NaN   \n",
       "\n",
       "title   'Round Midnight (1986)  'Salem's Lot (2004)  \\\n",
       "userId                                                \n",
       "1                          NaN                  NaN   \n",
       "2                          NaN                  NaN   \n",
       "3                          NaN                  NaN   \n",
       "4                          NaN                  NaN   \n",
       "5                          NaN                  NaN   \n",
       "\n",
       "title   'Til There Was You (1997)  'burbs, The (1989)  ...  [REC] (2007)  \\\n",
       "userId                                                 ...                 \n",
       "1                             NaN                 NaN  ...           NaN   \n",
       "2                             NaN                 NaN  ...           NaN   \n",
       "3                             NaN                 NaN  ...           NaN   \n",
       "4                             NaN                 NaN  ...           NaN   \n",
       "5                             NaN                 NaN  ...           NaN   \n",
       "\n",
       "title   [REC]² (2009)  [REC]³ 3 Génesis (2012)  eXistenZ (1999)  \\\n",
       "userId                                                            \n",
       "1                 NaN                      NaN              NaN   \n",
       "2                 NaN                      NaN              NaN   \n",
       "3                 NaN                      NaN              NaN   \n",
       "4                 NaN                      NaN              NaN   \n",
       "5                 NaN                      NaN              NaN   \n",
       "\n",
       "title   loudQUIETloud: A Film About the Pixies (2006)  xXx (2002)  \\\n",
       "userId                                                              \n",
       "1                                                 NaN         NaN   \n",
       "2                                                 NaN         NaN   \n",
       "3                                                 NaN         NaN   \n",
       "4                                                 NaN         NaN   \n",
       "5                                                 NaN         NaN   \n",
       "\n",
       "title   xXx: State of the Union (2005)  ¡Three Amigos! (1986)  \\\n",
       "userId                                                          \n",
       "1                                  NaN                    NaN   \n",
       "2                                  NaN                    NaN   \n",
       "3                                  NaN                    NaN   \n",
       "4                                  NaN                    NaN   \n",
       "5                                  NaN                    NaN   \n",
       "\n",
       "title   À nos amours (1983)  À nous la liberté (Freedom for Us) (1931)  \n",
       "userId                                                                  \n",
       "1                       NaN                                        NaN  \n",
       "2                       NaN                                        NaN  \n",
       "3                       NaN                                        NaN  \n",
       "4                       NaN                                        NaN  \n",
       "5                       NaN                                        NaN  \n",
       "\n",
       "[5 rows x 14021 columns]"
      ]
     },
     "execution_count": 5,
     "metadata": {},
     "output_type": "execute_result"
    }
   ],
   "source": [
    "filmes_pivot = filmes_data.pivot_table(index = ['userId'], columns = ['title'], values = 'rating')\n",
    "filmes_pivot.head()"
   ]
  },
  {
   "cell_type": "markdown",
   "metadata": {},
   "source": [
    "**Solicitando do usuário o input do filme na qual ele pretende receber recomendações, e através da biblioteca difflib está conseguindo encontrar na lista o filmes com o títulos mais semalhante a entrado do usuário**"
   ]
  },
  {
   "cell_type": "code",
   "execution_count": 12,
   "metadata": {
    "execution": {
     "iopub.execute_input": "2025-06-04T19:51:06.433510Z",
     "iopub.status.busy": "2025-06-04T19:51:06.433120Z",
     "iopub.status.idle": "2025-06-04T19:51:10.690494Z",
     "shell.execute_reply": "2025-06-04T19:51:10.689276Z",
     "shell.execute_reply.started": "2025-06-04T19:51:06.433484Z"
    },
    "trusted": true
   },
   "outputs": [
    {
     "name": "stdout",
     "output_type": "stream",
     "text": [
      "Escolha seu filme favorito:  Toy Story\n"
     ]
    },
    {
     "name": "stdout",
     "output_type": "stream",
     "text": [
      "['Toy Story (1995)', 'Toy Story 3 (2010)', 'Toy Story 2 (1999)']\n"
     ]
    }
   ],
   "source": [
    "filme = input('Escolha seu filme favorito: ')\n",
    "lista_titulos = coluna_filmes['title'].tolist()\n",
    "encontrar_filme = difflib.get_close_matches(filme, lista_titulos)\n",
    "print(encontrar_filme)"
   ]
  },
  {
   "cell_type": "markdown",
   "metadata": {},
   "source": [
    "**Caso o filme seja encontrado no dataset ele é selecionado o primeiro da lista, ou seja, o mais semelhante a entrada do usuário, e armazena as notas vinculadas a tal filme**"
   ]
  },
  {
   "cell_type": "code",
   "execution_count": 18,
   "metadata": {
    "execution": {
     "iopub.execute_input": "2025-06-04T19:56:58.895104Z",
     "iopub.status.busy": "2025-06-04T19:56:58.894737Z",
     "iopub.status.idle": "2025-06-04T19:56:58.903762Z",
     "shell.execute_reply": "2025-06-04T19:56:58.902617Z",
     "shell.execute_reply.started": "2025-06-04T19:56:58.895079Z"
    },
    "trusted": true
   },
   "outputs": [
    {
     "name": "stdout",
     "output_type": "stream",
     "text": [
      "Filme encontrado: Toy Story (1995)\n",
      "userId\n",
      "1       NaN\n",
      "2       NaN\n",
      "3       4.0\n",
      "4       NaN\n",
      "5       NaN\n",
      "       ... \n",
      "7116    4.0\n",
      "7117    4.0\n",
      "7118    NaN\n",
      "7119    5.0\n",
      "7120    4.5\n",
      "Name: Toy Story (1995), Length: 7120, dtype: float64\n"
     ]
    },
    {
     "name": "stderr",
     "output_type": "stream",
     "text": [
      "/usr/local/lib/python3.11/dist-packages/pandas/io/formats/format.py:1458: RuntimeWarning: invalid value encountered in greater\n",
      "  has_large_values = (abs_vals > 1e6).any()\n",
      "/usr/local/lib/python3.11/dist-packages/pandas/io/formats/format.py:1459: RuntimeWarning: invalid value encountered in less\n",
      "  has_small_values = ((abs_vals < 10 ** (-self.digits)) & (abs_vals > 0)).any()\n",
      "/usr/local/lib/python3.11/dist-packages/pandas/io/formats/format.py:1459: RuntimeWarning: invalid value encountered in greater\n",
      "  has_small_values = ((abs_vals < 10 ** (-self.digits)) & (abs_vals > 0)).any()\n"
     ]
    }
   ],
   "source": [
    "if encontrar_filme:\n",
    "    filme = encontrar_filme[0]\n",
    "    print(f\"Filme encontrado: {filme}\")\n",
    "    filme_rating = filmes_pivot[filme]\n",
    "    print(filme_rating)\n",
    "\n",
    "else:\n",
    "    print(\"Filme não encontrado na base de dados.\")"
   ]
  },
  {
   "cell_type": "markdown",
   "metadata": {},
   "source": [
    "**Após encontrar o filme do usuário é feito o cálculo de similaridade e armazenado em um DataFrame, assim encontrando os filmes mais compativéis com a entrada do usuário**"
   ]
  },
  {
   "cell_type": "code",
   "execution_count": 17,
   "metadata": {
    "execution": {
     "iopub.execute_input": "2025-06-04T19:53:50.910752Z",
     "iopub.status.busy": "2025-06-04T19:53:50.910408Z",
     "iopub.status.idle": "2025-06-04T19:53:54.972745Z",
     "shell.execute_reply": "2025-06-04T19:53:54.971534Z",
     "shell.execute_reply.started": "2025-06-04T19:53:50.910721Z"
    },
    "trusted": true
   },
   "outputs": [
    {
     "name": "stdout",
     "output_type": "stream",
     "text": [
      "Filme encontrado: Toy Story (1995)\n"
     ]
    },
    {
     "name": "stderr",
     "output_type": "stream",
     "text": [
      "/usr/local/lib/python3.11/dist-packages/numpy/lib/function_base.py:2889: RuntimeWarning: Degrees of freedom <= 0 for slice\n",
      "  c = cov(x, y, rowvar, dtype=dtype)\n",
      "/usr/local/lib/python3.11/dist-packages/numpy/lib/function_base.py:2748: RuntimeWarning: divide by zero encountered in divide\n",
      "  c *= np.true_divide(1, fact)\n",
      "/usr/local/lib/python3.11/dist-packages/numpy/lib/function_base.py:2748: RuntimeWarning: invalid value encountered in multiply\n",
      "  c *= np.true_divide(1, fact)\n",
      "/usr/local/lib/python3.11/dist-packages/numpy/lib/function_base.py:2897: RuntimeWarning: invalid value encountered in divide\n",
      "  c /= stddev[:, None]\n",
      "/usr/local/lib/python3.11/dist-packages/numpy/lib/function_base.py:2898: RuntimeWarning: invalid value encountered in divide\n",
      "  c /= stddev[None, :]\n"
     ]
    },
    {
     "name": "stdout",
     "output_type": "stream",
     "text": [
      "                                               correlacao\n",
      "title                                                    \n",
      "'Round Midnight (1986)                          -1.000000\n",
      "'Salem's Lot (2004)                             -1.000000\n",
      "'Til There Was You (1997)                        0.258998\n",
      "'burbs, The (1989)                               0.054398\n",
      "'night Mother (1986)                             0.305156\n",
      "...                                                   ...\n",
      "eXistenZ (1999)                                  0.196804\n",
      "loudQUIETloud: A Film About the Pixies (2006)   -0.408248\n",
      "xXx (2002)                                       0.368637\n",
      "xXx: State of the Union (2005)                   0.200546\n",
      "¡Three Amigos! (1986)                            0.127267\n",
      "\n",
      "[9941 rows x 1 columns]\n"
     ]
    }
   ],
   "source": [
    "if encontrar_filme:\n",
    "    filme = encontrar_filme[0]\n",
    "    print(f\"Filme encontrado: {filme}\")\n",
    "    filme_rating = filmes_pivot[filme]\n",
    "\n",
    "    similaridade = filmes_pivot.corrwith(filme_rating)\n",
    "    corr_filmes = pd.DataFrame(similaridade, columns=['correlacao'])\n",
    "    corr_filmes.dropna(inplace=True)\n",
    "    print(corr_filmes)\n",
    "\n",
    "else:\n",
    "    print(\"Filme não encontrado na base de dados.\")"
   ]
  },
  {
   "cell_type": "markdown",
   "metadata": {},
   "source": [
    "****"
   ]
  },
  {
   "cell_type": "markdown",
   "metadata": {},
   "source": [
    "**Já na parte final é armazenado a quantidade de avaliações vinculadas a esse filme.\n",
    "E por fim é filtrado filmes que possuem quantidade 'X' de avaliações e essa listagem é no final ordenada e apresentada para o usuário**"
   ]
  },
  {
   "cell_type": "code",
   "execution_count": 19,
   "metadata": {
    "execution": {
     "iopub.execute_input": "2025-06-04T19:58:51.274636Z",
     "iopub.status.busy": "2025-06-04T19:58:51.274223Z",
     "iopub.status.idle": "2025-06-04T19:58:51.397974Z",
     "shell.execute_reply": "2025-06-04T19:58:51.396979Z",
     "shell.execute_reply.started": "2025-06-04T19:58:51.274608Z"
    },
    "trusted": true
   },
   "outputs": [
    {
     "name": "stdout",
     "output_type": "stream",
     "text": [
      "\n",
      "Top 10 recomendações:\n",
      "                                             correlacao  rating\n",
      "title                                                          \n",
      "Toy Story (1995)                               1.000000    2569\n",
      "Toy Story 2 (1999)                             0.766896    1180\n",
      "Finding Nemo (2003)                            0.557163    1224\n",
      "Bug's Life, A (1998)                           0.554016    1075\n",
      "Monsters, Inc. (2001)                          0.534083    1256\n",
      "Incredibles, The (2004)                        0.476013    1061\n",
      "Babe (1995)                                    0.430191    1694\n",
      "Shrek (2001)                                   0.427351    1696\n",
      "Spider-Man 2 (2004)                            0.427310     858\n",
      "Wallace & Gromit: The Wrong Trousers (1993)    0.423088     798\n"
     ]
    }
   ],
   "source": [
    "# Adiciona contagem de avaliações\n",
    "quantidade_avaliacoes = filmes_data.groupby('title')['rating'].count()\n",
    "corr_filmes = corr_filmes.join(quantidade_avaliacoes)\n",
    "\n",
    "# Ordena e exibe recomendações\n",
    "recomendacoes = corr_filmes[corr_filmes['rating'] > 500].sort_values('correlacao', ascending=False)\n",
    "print(\"\\nTop 10 recomendações:\")\n",
    "print(recomendacoes.head(10))"
   ]
  },
  {
   "cell_type": "code",
   "execution_count": 24,
   "metadata": {
    "execution": {
     "iopub.execute_input": "2025-06-04T20:04:32.370555Z",
     "iopub.status.busy": "2025-06-04T20:04:32.370139Z",
     "iopub.status.idle": "2025-06-04T20:04:44.399297Z",
     "shell.execute_reply": "2025-06-04T20:04:44.398088Z",
     "shell.execute_reply.started": "2025-06-04T20:04:32.370527Z"
    },
    "id": "BNHevVvkG8hx",
    "outputId": "65a7b8ea-f8f7-4bf2-b22b-117dbc782b76",
    "trusted": true
   },
   "outputs": [
    {
     "name": "stdout",
     "output_type": "stream",
     "text": [
      "Escolha seu filme favorito:  The Empire Strikes Back\n"
     ]
    },
    {
     "name": "stdout",
     "output_type": "stream",
     "text": [
      "Filme encontrado: Star Wars: Episode V - The Empire Strikes Back (1980)\n"
     ]
    },
    {
     "name": "stderr",
     "output_type": "stream",
     "text": [
      "/usr/local/lib/python3.11/dist-packages/numpy/lib/function_base.py:2889: RuntimeWarning: Degrees of freedom <= 0 for slice\n",
      "  c = cov(x, y, rowvar, dtype=dtype)\n",
      "/usr/local/lib/python3.11/dist-packages/numpy/lib/function_base.py:2748: RuntimeWarning: divide by zero encountered in divide\n",
      "  c *= np.true_divide(1, fact)\n",
      "/usr/local/lib/python3.11/dist-packages/numpy/lib/function_base.py:2748: RuntimeWarning: invalid value encountered in multiply\n",
      "  c *= np.true_divide(1, fact)\n",
      "/usr/local/lib/python3.11/dist-packages/numpy/lib/function_base.py:2897: RuntimeWarning: invalid value encountered in divide\n",
      "  c /= stddev[:, None]\n",
      "/usr/local/lib/python3.11/dist-packages/numpy/lib/function_base.py:2898: RuntimeWarning: invalid value encountered in divide\n",
      "  c /= stddev[None, :]\n"
     ]
    },
    {
     "name": "stdout",
     "output_type": "stream",
     "text": [
      "\n",
      "Top 10 recomendações:\n",
      "                                                    correlacao  rating\n",
      "title                                                                 \n",
      "Star Wars: Episode V - The Empire Strikes Back ...    1.000000    2418\n",
      "Star Wars: Episode IV - A New Hope (1977)             0.759636    2874\n",
      "Star Wars: Episode VI - Return of the Jedi (1983)     0.719665    2480\n",
      "Raiders of the Lost Ark (Indiana Jones and the ...    0.488119    2289\n",
      "Indiana Jones and the Last Crusade (1989)             0.435773    1679\n",
      "Star Wars: Episode III - Revenge of the Sith (2...    0.400284     652\n",
      "Toy Story 2 (1999)                                    0.393717    1180\n",
      "Lord of the Rings: The Two Towers, The (2002)         0.392900    1794\n",
      "Lord of the Rings: The Return of the King, The ...    0.391421    1619\n",
      "Lord of the Rings: The Fellowship of the Ring, ...    0.390917    1990\n"
     ]
    }
   ],
   "source": [
    "filme = input('Escolha seu filme favorito: ')\n",
    "lista_titulos = coluna_filmes['title'].tolist()\n",
    "encontrar_filme = difflib.get_close_matches(filme, lista_titulos)\n",
    "\n",
    "if encontrar_filme:\n",
    "    filme = encontrar_filme[0]\n",
    "    print(f\"Filme encontrado: {filme}\")\n",
    "    filme_rating = filmes_pivot[filme]\n",
    "\n",
    "    # Calcula a similaridade\n",
    "    similaridade = filmes_pivot.corrwith(filme_rating)\n",
    "    corr_filmes = pd.DataFrame(similaridade, columns=['correlacao'])\n",
    "    corr_filmes.dropna(inplace=True)\n",
    "\n",
    "    # Adiciona contagem de avaliações\n",
    "    quantidade_avaliacoes = filmes_data.groupby('title')['rating'].count()\n",
    "    corr_filmes = corr_filmes.join(quantidade_avaliacoes)\n",
    "\n",
    "    # Ordena e exibe recomendações\n",
    "    recomendacoes = corr_filmes[corr_filmes['rating'] > 500].sort_values('correlacao', ascending=False)\n",
    "    print(\"\\nTop 10 recomendações:\")\n",
    "    print(recomendacoes.head(10))\n",
    "else:\n",
    "    print(\"Filme não encontrado na base de dados.\")"
   ]
  }
 ],
 "metadata": {
  "colab": {
   "provenance": []
  },
  "kaggle": {
   "accelerator": "none",
   "dataSources": [
    {
     "datasetId": 3860,
     "sourceId": 6062,
     "sourceType": "datasetVersion"
    },
    {
     "datasetId": 339,
     "sourceId": 77759,
     "sourceType": "datasetVersion"
    },
    {
     "datasetId": 60876,
     "sourceId": 118283,
     "sourceType": "datasetVersion"
    }
   ],
   "dockerImageVersionId": 31040,
   "isGpuEnabled": false,
   "isInternetEnabled": false,
   "language": "python",
   "sourceType": "notebook"
  },
  "kernelspec": {
   "display_name": "Python 3",
   "language": "python",
   "name": "python3"
  },
  "language_info": {
   "codemirror_mode": {
    "name": "ipython",
    "version": 3
   },
   "file_extension": ".py",
   "mimetype": "text/x-python",
   "name": "python",
   "nbconvert_exporter": "python",
   "pygments_lexer": "ipython3",
   "version": "3.12.11"
  }
 },
 "nbformat": 4,
 "nbformat_minor": 4
}
